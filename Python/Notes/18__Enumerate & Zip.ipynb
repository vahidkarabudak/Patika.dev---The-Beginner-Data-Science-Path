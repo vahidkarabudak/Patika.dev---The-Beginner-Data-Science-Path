{
 "cells": [
  {
   "cell_type": "markdown",
   "id": "b9c7e6d0",
   "metadata": {},
   "source": [
    "# Enumerate - Zip"
   ]
  },
  {
   "cell_type": "code",
   "execution_count": 1,
   "id": "882e4590",
   "metadata": {},
   "outputs": [
    {
     "name": "stdout",
     "output_type": "stream",
     "text": [
      "1\n",
      "2\n",
      "*********\n",
      "10\n",
      "20\n",
      "*********\n"
     ]
    }
   ],
   "source": [
    "l = [(1,2), (10,20)]\n",
    "for e in l:\n",
    "    a, b = e\n",
    "    print(a)\n",
    "    print(b)\n",
    "    print(\"*********\")"
   ]
  },
  {
   "cell_type": "code",
   "execution_count": 3,
   "id": "cc4e8d28",
   "metadata": {},
   "outputs": [
    {
     "name": "stdout",
     "output_type": "stream",
     "text": [
      "The first item in tuple: 1\n",
      "The second item in tuple: 2\n",
      "-----------------------------\n",
      "The first item in tuple: 10\n",
      "The second item in tuple: 20\n",
      "-----------------------------\n"
     ]
    }
   ],
   "source": [
    "for a, b in l:\n",
    "    print(\"The first item in tuple:\", a)\n",
    "    print(\"The second item in tuple:\", b)\n",
    "    print(\"-----------------------------\")"
   ]
  },
  {
   "cell_type": "code",
   "execution_count": 5,
   "id": "d6027204",
   "metadata": {},
   "outputs": [
    {
     "name": "stdout",
     "output_type": "stream",
     "text": [
      "Tyler\n",
      "Blake\n",
      "Cory\n",
      "Cameron\n"
     ]
    }
   ],
   "source": [
    "names = ['Tyler', 'Blake', 'Cory', 'Cameron']\n",
    "for e in names:\n",
    "    print(e)"
   ]
  },
  {
   "cell_type": "code",
   "execution_count": 6,
   "id": "c86201dc",
   "metadata": {},
   "outputs": [
    {
     "name": "stdout",
     "output_type": "stream",
     "text": [
      "Index: 0 item: Tyler\n",
      "Index: 1 item: Blake\n",
      "Index: 2 item: Cory\n",
      "Index: 3 item: Cameron\n"
     ]
    }
   ],
   "source": [
    "for i, e in enumerate(names):\n",
    "    print(\"Index:\",i, \"item:\", e)"
   ]
  },
  {
   "cell_type": "code",
   "execution_count": 7,
   "id": "8901f6b7",
   "metadata": {},
   "outputs": [
    {
     "name": "stdout",
     "output_type": "stream",
     "text": [
      "Index: 100 item: Tyler\n",
      "Index: 101 item: Blake\n",
      "Index: 102 item: Cory\n",
      "Index: 103 item: Cameron\n"
     ]
    }
   ],
   "source": [
    "for i, e in enumerate(names, start = 100):\n",
    "    print(\"Index:\",i, \"item:\", e)"
   ]
  },
  {
   "cell_type": "code",
   "execution_count": 11,
   "id": "84dcc2f9",
   "metadata": {},
   "outputs": [
    {
     "name": "stdout",
     "output_type": "stream",
     "text": [
      "student-1 90\n",
      "student-2 80\n",
      "student-3 72\n"
     ]
    }
   ],
   "source": [
    "students = [\"student-1\",\"student-2\",\"student-3\"]\n",
    "grades = [90,80,72]\n",
    "for s, g in zip(students, grades):\n",
    "    print(s, g)"
   ]
  },
  {
   "cell_type": "code",
   "execution_count": 12,
   "id": "15849436",
   "metadata": {},
   "outputs": [
    {
     "name": "stdout",
     "output_type": "stream",
     "text": [
      "('student-1', 90)\n",
      "('student-2', 80)\n",
      "('student-3', 72)\n"
     ]
    }
   ],
   "source": [
    "for e in zip(students, grades):\n",
    "    print(e)"
   ]
  },
  {
   "cell_type": "code",
   "execution_count": 13,
   "id": "d16deee1",
   "metadata": {},
   "outputs": [
    {
     "name": "stdout",
     "output_type": "stream",
     "text": [
      "student-1 90\n",
      "student-2 80\n",
      "student-3 72\n"
     ]
    }
   ],
   "source": [
    "for i in range(len(students)):\n",
    "    print(students[i], grades[i])"
   ]
  },
  {
   "cell_type": "code",
   "execution_count": 15,
   "id": "1b57952b",
   "metadata": {},
   "outputs": [
    {
     "name": "stdout",
     "output_type": "stream",
     "text": [
      "Total profit: -53200.0\n",
      "Total profit: 54400.0\n",
      "Total profit: 55100.0\n"
     ]
    }
   ],
   "source": [
    "sell = [3500.00, 76300.00, 67200.00]\n",
    "cost = [56700.00, 21900.00, 12100.00]\n",
    "for s, c in zip(sell, cost):\n",
    "    gain = s - c\n",
    "    print(f'Total profit: {gain}')"
   ]
  },
  {
   "cell_type": "code",
   "execution_count": 17,
   "id": "58f7c385",
   "metadata": {},
   "outputs": [
    {
     "name": "stdout",
     "output_type": "stream",
     "text": [
      "{'name': 'Denis', 'last_name': 'Walker', 'country': 'Turkey', 'job': 'data scientist'}\n"
     ]
    }
   ],
   "source": [
    "keys = ['name', 'last_name', 'country', 'job']\n",
    "values = ['Denis', 'Walker', 'Turkey', 'data scientist']\n",
    "d = {}\n",
    "for k, v in zip(keys, values):\n",
    "    d[k] = v\n",
    "print(d)"
   ]
  }
 ],
 "metadata": {
  "kernelspec": {
   "display_name": "Python 3 (ipykernel)",
   "language": "python",
   "name": "python3"
  },
  "language_info": {
   "codemirror_mode": {
    "name": "ipython",
    "version": 3
   },
   "file_extension": ".py",
   "mimetype": "text/x-python",
   "name": "python",
   "nbconvert_exporter": "python",
   "pygments_lexer": "ipython3",
   "version": "3.9.12"
  }
 },
 "nbformat": 4,
 "nbformat_minor": 5
}
