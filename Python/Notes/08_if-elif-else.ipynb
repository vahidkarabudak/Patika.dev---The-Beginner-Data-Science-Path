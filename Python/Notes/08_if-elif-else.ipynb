{
 "cells": [
  {
   "cell_type": "markdown",
   "id": "cb039e42",
   "metadata": {},
   "source": [
    "# if - elif - else"
   ]
  },
  {
   "cell_type": "code",
   "execution_count": 2,
   "id": "23a66eb5",
   "metadata": {},
   "outputs": [
    {
     "name": "stdout",
     "output_type": "stream",
     "text": [
      "Type in a number between 0 and 100: 85\n",
      "The number is between 80 and 90.\n",
      "Program is over.\n"
     ]
    }
   ],
   "source": [
    "x = int(input(\"Type in a number between 0 and 100: \"))\n",
    "\n",
    "if x == 100:\n",
    "    print(\"The number is 100.\")\n",
    "\n",
    "elif x >= 90:\n",
    "    print(\"The number is between 90 and 100.\")\n",
    "\n",
    "elif x >= 80:\n",
    "    print(\"The number is between 80 and 90.\")\n",
    "    \n",
    "else:\n",
    "    print(\"The number is smaller than 80.\")\n",
    "    \n",
    "print(\"Program is over.\")"
   ]
  },
  {
   "cell_type": "markdown",
   "id": "7f259270",
   "metadata": {},
   "source": [
    "# Nested if"
   ]
  },
  {
   "cell_type": "code",
   "execution_count": null,
   "id": "446fc4f6",
   "metadata": {},
   "outputs": [],
   "source": [
    "x = int(input(\"Type in a number: \"))\n",
    "if x % 3 == 0:\n",
    "    if x % 2 == 0:\n",
    "        print(\"The number can be divided by both 2 and 3.\")\n",
    "    else:\n",
    "        print(\"The number can be divided by 3 but 2.\")\n",
    "else:\n",
    "    print(\"The number cannot be divided by 3.\")\n",
    "print(\"Programı is over.\")"
   ]
  },
  {
   "cell_type": "code",
   "execution_count": null,
   "id": "34b7629d",
   "metadata": {},
   "outputs": [],
   "source": [
    "x = int(input(\"Type in a number: \")\n",
    "if (x % 3 == 0) and (x % 2) == 0:\n",
    "    print(\"The number cannot be divided by both 3 and 2.\")\n",
    "print(\"Program is over.\")"
   ]
  },
  {
   "cell_type": "code",
   "execution_count": null,
   "id": "6263794b",
   "metadata": {},
   "outputs": [],
   "source": [
    "if (x % 3 == 0) or (x % 2 == 0):\n",
    "    print(\"The number can be divided by at least one of 2 and 3\")\n",
    "    \n",
    "print(\"Program is over.\")"
   ]
  },
  {
   "cell_type": "markdown",
   "id": "65df1c6a",
   "metadata": {},
   "source": [
    "# Ternary Conditionals"
   ]
  },
  {
   "cell_type": "code",
   "execution_count": null,
   "id": "54e39513",
   "metadata": {},
   "outputs": [],
   "source": [
    "answer = input(\"Should the value of x be 2? y/n\")\n",
    "if answer == \"y\":\n",
    "    x = 2\n",
    "    else:\n",
    "        x=0\n",
    "print(x)"
   ]
  },
  {
   "cell_type": "code",
   "execution_count": null,
   "id": "5307085b",
   "metadata": {},
   "outputs": [],
   "source": [
    "answer = input(\"Should the value of x be 2? y/n\")\n",
    "x = 2 if answer == \"y\" else 0\n",
    "print(x)"
   ]
  },
  {
   "cell_type": "markdown",
   "id": "8fd0226d",
   "metadata": {},
   "source": [
    "* The 2 codes above are the same."
   ]
  }
 ],
 "metadata": {
  "kernelspec": {
   "display_name": "Python 3 (ipykernel)",
   "language": "python",
   "name": "python3"
  },
  "language_info": {
   "codemirror_mode": {
    "name": "ipython",
    "version": 3
   },
   "file_extension": ".py",
   "mimetype": "text/x-python",
   "name": "python",
   "nbconvert_exporter": "python",
   "pygments_lexer": "ipython3",
   "version": "3.9.12"
  }
 },
 "nbformat": 4,
 "nbformat_minor": 5
}
