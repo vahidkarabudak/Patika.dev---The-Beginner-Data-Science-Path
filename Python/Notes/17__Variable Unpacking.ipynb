{
 "cells": [
  {
   "cell_type": "markdown",
   "id": "b69a2717",
   "metadata": {},
   "source": [
    "# Variable unpacking"
   ]
  },
  {
   "cell_type": "code",
   "execution_count": 8,
   "id": "3cde51d5",
   "metadata": {},
   "outputs": [
    {
     "name": "stdout",
     "output_type": "stream",
     "text": [
      "4 - 7\n"
     ]
    }
   ],
   "source": [
    "x, y = (4, 7)\n",
    "print(x,\"-\",y)"
   ]
  },
  {
   "cell_type": "code",
   "execution_count": 4,
   "id": "f37d8637",
   "metadata": {},
   "outputs": [
    {
     "name": "stdout",
     "output_type": "stream",
     "text": [
      "4\n"
     ]
    }
   ],
   "source": [
    "x, _ = (4, 7)\n",
    "print(x)"
   ]
  },
  {
   "cell_type": "code",
   "execution_count": 5,
   "id": "d75e74e0",
   "metadata": {},
   "outputs": [
    {
     "name": "stdout",
     "output_type": "stream",
     "text": [
      "4 - 7 - [11, 4, 21]\n"
     ]
    }
   ],
   "source": [
    "x, y, *z = (4, 7, 11, 4, 21)\n",
    "print(x,\"-\",y,\"-\",z)"
   ]
  },
  {
   "cell_type": "code",
   "execution_count": 6,
   "id": "505afcd0",
   "metadata": {},
   "outputs": [
    {
     "data": {
      "text/plain": [
       "list"
      ]
     },
     "execution_count": 6,
     "metadata": {},
     "output_type": "execute_result"
    }
   ],
   "source": [
    "type(z)"
   ]
  },
  {
   "cell_type": "code",
   "execution_count": 7,
   "id": "a1d6fde1",
   "metadata": {},
   "outputs": [
    {
     "name": "stdout",
     "output_type": "stream",
     "text": [
      "4 - 7\n"
     ]
    }
   ],
   "source": [
    "x, y, *_ = (4, 7, 11, 12, 13)\n",
    "print(x,\"-\",y)"
   ]
  },
  {
   "cell_type": "code",
   "execution_count": 9,
   "id": "5db817e3",
   "metadata": {},
   "outputs": [
    {
     "name": "stdout",
     "output_type": "stream",
     "text": [
      "4 - 7 - [11, 4] - 21\n"
     ]
    }
   ],
   "source": [
    "x, y, *z, t = (4, 7, 11, 4, 21)\n",
    "print(x,\"-\",y,\"-\",z,\"-\",t)"
   ]
  },
  {
   "cell_type": "code",
   "execution_count": 10,
   "id": "bb8b643a",
   "metadata": {},
   "outputs": [
    {
     "data": {
      "text/plain": [
       "list"
      ]
     },
     "execution_count": 10,
     "metadata": {},
     "output_type": "execute_result"
    }
   ],
   "source": [
    "type(z)"
   ]
  }
 ],
 "metadata": {
  "kernelspec": {
   "display_name": "Python 3 (ipykernel)",
   "language": "python",
   "name": "python3"
  },
  "language_info": {
   "codemirror_mode": {
    "name": "ipython",
    "version": 3
   },
   "file_extension": ".py",
   "mimetype": "text/x-python",
   "name": "python",
   "nbconvert_exporter": "python",
   "pygments_lexer": "ipython3",
   "version": "3.9.12"
  }
 },
 "nbformat": 4,
 "nbformat_minor": 5
}
