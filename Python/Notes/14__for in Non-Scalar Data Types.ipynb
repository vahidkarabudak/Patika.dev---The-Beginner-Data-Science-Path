{
 "cells": [
  {
   "cell_type": "markdown",
   "id": "33491852",
   "metadata": {},
   "source": [
    "# for in Non-Scalar Data Types"
   ]
  },
  {
   "cell_type": "code",
   "execution_count": 1,
   "id": "dca023fc",
   "metadata": {},
   "outputs": [
    {
     "name": "stdout",
     "output_type": "stream",
     "text": [
      "90\n",
      "72\n",
      "81\n",
      "77\n"
     ]
    }
   ],
   "source": [
    "grades = [90,72,81,77]\n",
    "for i in grades:\n",
    "    print(i)"
   ]
  },
  {
   "cell_type": "code",
   "execution_count": 2,
   "id": "29f30192",
   "metadata": {},
   "outputs": [
    {
     "name": "stdout",
     "output_type": "stream",
     "text": [
      "80.0\n"
     ]
    }
   ],
   "source": [
    "sum = 0\n",
    "for i in grades:\n",
    "    sum+=i\n",
    "average=sum/len(grades)\n",
    "print(average)"
   ]
  },
  {
   "cell_type": "code",
   "execution_count": 3,
   "id": "d9f3f836",
   "metadata": {},
   "outputs": [
    {
     "name": "stdout",
     "output_type": "stream",
     "text": [
      "Iteration:  0\n",
      "Iteration:  1\n",
      "Iteration:  2\n",
      "Iteration:  3\n"
     ]
    }
   ],
   "source": [
    "for i in range(4):\n",
    "    print(\"Iteration: \", i)"
   ]
  },
  {
   "cell_type": "code",
   "execution_count": 4,
   "id": "1e146c8f",
   "metadata": {},
   "outputs": [
    {
     "name": "stdout",
     "output_type": "stream",
     "text": [
      "Iteration:  0\n",
      "Iteration:  1\n",
      "Iteration:  2\n",
      "Iteration:  3\n"
     ]
    }
   ],
   "source": [
    "for i in range(len(grades)):\n",
    "    print(\"Iteration: \", i)"
   ]
  },
  {
   "cell_type": "code",
   "execution_count": 5,
   "id": "2aa9ba3c",
   "metadata": {},
   "outputs": [
    {
     "name": "stdout",
     "output_type": "stream",
     "text": [
      "[95, 77, 86, 82]\n"
     ]
    }
   ],
   "source": [
    "for i in range(len(grades)):\n",
    "    grades[i]+=5\n",
    "print(grades)"
   ]
  },
  {
   "cell_type": "code",
   "execution_count": 6,
   "id": "3f582098",
   "metadata": {},
   "outputs": [
    {
     "name": "stdout",
     "output_type": "stream",
     "text": [
      "[100, 77, 91, 87]\n"
     ]
    }
   ],
   "source": [
    "for i in range(len(grades)):\n",
    "    if i == 1:\n",
    "        continue\n",
    "    grades[i]+=5\n",
    "print(grades)"
   ]
  },
  {
   "cell_type": "code",
   "execution_count": 8,
   "id": "971b22b6",
   "metadata": {},
   "outputs": [
    {
     "name": "stdout",
     "output_type": "stream",
     "text": [
      "Which number shall i check ?40\n",
      "2\n",
      "3\n",
      "40\n",
      "Found it!\n"
     ]
    }
   ],
   "source": [
    "l = [2,3,40,100,10,1]\n",
    "x = int(input(\"Which number shall i check ?\"))\n",
    "for i in l:\n",
    "    print(i)\n",
    "    if i == x:\n",
    "        print(\"Found it!\")\n",
    "        break"
   ]
  },
  {
   "cell_type": "markdown",
   "id": "c58c0b68",
   "metadata": {},
   "source": [
    "* There are no difference between lists and tuples for the loop for"
   ]
  },
  {
   "cell_type": "code",
   "execution_count": 9,
   "id": "b2ef0019",
   "metadata": {},
   "outputs": [
    {
     "name": "stdout",
     "output_type": "stream",
     "text": [
      "student_1\n",
      "student_2\n",
      "student_3\n"
     ]
    }
   ],
   "source": [
    "d = {\n",
    "    \"student_1\": [90,89], \n",
    "    \"student_2\": [80,83], \n",
    "    \"student_3\": [72,71]\n",
    "}\n",
    "for k in d:\n",
    "    print(k)"
   ]
  },
  {
   "cell_type": "code",
   "execution_count": 10,
   "id": "a67df5da",
   "metadata": {},
   "outputs": [
    {
     "name": "stdout",
     "output_type": "stream",
     "text": [
      "[90, 89]\n",
      "[80, 83]\n",
      "[72, 71]\n"
     ]
    }
   ],
   "source": [
    "for k in d:\n",
    "    v = d[k]\n",
    "    print(v)"
   ]
  },
  {
   "cell_type": "code",
   "execution_count": 13,
   "id": "c7226a08",
   "metadata": {},
   "outputs": [
    {
     "name": "stdout",
     "output_type": "stream",
     "text": [
      "[90, 89]\n",
      "[80, 83]\n",
      "[72, 71]\n"
     ]
    }
   ],
   "source": [
    "d = {\n",
    "    \"student_1\": [90,89], \n",
    "    \"student_2\": [80,83], \n",
    "    \"student_3\": [72,71]\n",
    "}\n",
    "for v in d.values():\n",
    "    print(v)"
   ]
  },
  {
   "cell_type": "code",
   "execution_count": 12,
   "id": "5eaa2aff",
   "metadata": {},
   "outputs": [
    {
     "name": "stdout",
     "output_type": "stream",
     "text": [
      "90\n",
      "80\n",
      "72\n"
     ]
    }
   ],
   "source": [
    "d = {\n",
    "    \"student_1\": 90, \n",
    "    \"student_2\": 80, \n",
    "    \"student_3\": 72\n",
    "}\n",
    "for v in d.values():\n",
    "    print(v)"
   ]
  },
  {
   "cell_type": "code",
   "execution_count": 14,
   "id": "4b6cb94f",
   "metadata": {},
   "outputs": [
    {
     "name": "stdout",
     "output_type": "stream",
     "text": [
      "student_1\n"
     ]
    }
   ],
   "source": [
    "d = {\n",
    "    \"student_1\": 90, \n",
    "    \"student_2\": 80, \n",
    "    \"student_3\": 72\n",
    "}\n",
    "for k in d:\n",
    "    value = d[k]\n",
    "    if value > 85:\n",
    "        print(k)"
   ]
  },
  {
   "cell_type": "code",
   "execution_count": 17,
   "id": "c846d070",
   "metadata": {},
   "outputs": [
    {
     "name": "stdout",
     "output_type": "stream",
     "text": [
      "key value: student_1 value of value: 90\n",
      "key value: student_2 value of value: 80\n",
      "key value: student_3 value of value: 72\n"
     ]
    }
   ],
   "source": [
    "for k,v in d.items():\n",
    "    print(\"key value:\", k, \"value of value:\", v)"
   ]
  }
 ],
 "metadata": {
  "kernelspec": {
   "display_name": "Python 3 (ipykernel)",
   "language": "python",
   "name": "python3"
  },
  "language_info": {
   "codemirror_mode": {
    "name": "ipython",
    "version": 3
   },
   "file_extension": ".py",
   "mimetype": "text/x-python",
   "name": "python",
   "nbconvert_exporter": "python",
   "pygments_lexer": "ipython3",
   "version": "3.9.12"
  }
 },
 "nbformat": 4,
 "nbformat_minor": 5
}
