{
 "cells": [
  {
   "cell_type": "markdown",
   "id": "8826ad07",
   "metadata": {},
   "source": [
    "# Functions"
   ]
  },
  {
   "cell_type": "markdown",
   "id": "78a87c3c",
   "metadata": {},
   "source": [
    "* does not run after return"
   ]
  },
  {
   "cell_type": "markdown",
   "id": "73c543c6",
   "metadata": {},
   "source": [
    "* without return -> void function"
   ]
  },
  {
   "cell_type": "code",
   "execution_count": 1,
   "id": "2ddcfbef",
   "metadata": {},
   "outputs": [
    {
     "data": {
      "text/plain": [
       "30"
      ]
     },
     "execution_count": 1,
     "metadata": {},
     "output_type": "execute_result"
    }
   ],
   "source": [
    "def first_function(x,y):\n",
    "    return 3*x+5*y\n",
    "first_function(5,3)"
   ]
  },
  {
   "cell_type": "code",
   "execution_count": 2,
   "id": "d9cb3d5b",
   "metadata": {},
   "outputs": [
    {
     "data": {
      "text/plain": [
       "30"
      ]
     },
     "execution_count": 2,
     "metadata": {},
     "output_type": "execute_result"
    }
   ],
   "source": [
    "def f(x):\n",
    "    return 10*x\n",
    "f(3)"
   ]
  },
  {
   "cell_type": "code",
   "execution_count": 12,
   "id": "f514894d",
   "metadata": {
    "scrolled": true
   },
   "outputs": [
    {
     "data": {
      "text/plain": [
       "9"
      ]
     },
     "execution_count": 12,
     "metadata": {},
     "output_type": "execute_result"
    }
   ],
   "source": [
    "square(3)"
   ]
  },
  {
   "cell_type": "code",
   "execution_count": 11,
   "id": "bf65d02e",
   "metadata": {},
   "outputs": [
    {
     "data": {
      "text/plain": [
       "81"
      ]
     },
     "execution_count": 11,
     "metadata": {},
     "output_type": "execute_result"
    }
   ],
   "source": [
    "square(square(3))"
   ]
  },
  {
   "cell_type": "code",
   "execution_count": 3,
   "id": "d1afd1d8",
   "metadata": {},
   "outputs": [
    {
     "data": {
      "text/plain": [
       "5"
      ]
     },
     "execution_count": 3,
     "metadata": {},
     "output_type": "execute_result"
    }
   ],
   "source": [
    "def withoutInput():\n",
    "    return 5\n",
    "withoutInput()"
   ]
  },
  {
   "cell_type": "code",
   "execution_count": 4,
   "id": "15098019",
   "metadata": {},
   "outputs": [
    {
     "data": {
      "text/plain": [
       "4"
      ]
     },
     "execution_count": 4,
     "metadata": {},
     "output_type": "execute_result"
    }
   ],
   "source": [
    "def f(x):\n",
    "    res = pow(x,2)\n",
    "    if x%2 == 0:\n",
    "        return res\n",
    "    else:\n",
    "        return res+10\n",
    "f(2)"
   ]
  },
  {
   "cell_type": "code",
   "execution_count": 5,
   "id": "65aa3b8d",
   "metadata": {},
   "outputs": [
    {
     "data": {
      "text/plain": [
       "11"
      ]
     },
     "execution_count": 5,
     "metadata": {},
     "output_type": "execute_result"
    }
   ],
   "source": [
    "f(1)"
   ]
  },
  {
   "cell_type": "code",
   "execution_count": 6,
   "id": "28c2dfda",
   "metadata": {},
   "outputs": [
    {
     "data": {
      "text/plain": [
       "225"
      ]
     },
     "execution_count": 6,
     "metadata": {},
     "output_type": "execute_result"
    }
   ],
   "source": [
    "def f(x):\n",
    "    res = pow(x,2)\n",
    "    for i in range(10):\n",
    "        res += 20 # 20 is added 10 times\n",
    "    return res\n",
    "f(5)"
   ]
  },
  {
   "cell_type": "code",
   "execution_count": 7,
   "id": "532ccd8a",
   "metadata": {},
   "outputs": [
    {
     "data": {
      "text/plain": [
       "204"
      ]
     },
     "execution_count": 7,
     "metadata": {},
     "output_type": "execute_result"
    }
   ],
   "source": [
    "f(2)"
   ]
  },
  {
   "cell_type": "code",
   "execution_count": 23,
   "id": "aed2c12d",
   "metadata": {},
   "outputs": [],
   "source": [
    "def f(x):\n",
    "    l=[] # empty array\n",
    "    res = pow(x,2)\n",
    "    for i in range(10):\n",
    "        res +=20\n",
    "        l.append(res)\n",
    "    return # without return there is no output\n",
    "f(5)"
   ]
  },
  {
   "cell_type": "code",
   "execution_count": 8,
   "id": "8c40b290",
   "metadata": {},
   "outputs": [
    {
     "data": {
      "text/plain": [
       "[45, 65, 85, 105, 125, 145, 165, 185, 205, 225]"
      ]
     },
     "execution_count": 8,
     "metadata": {},
     "output_type": "execute_result"
    }
   ],
   "source": [
    "def f(x):\n",
    "    l=[] # empty array\n",
    "    res = pow(x,2)\n",
    "    for i in range(10):\n",
    "        res +=20\n",
    "        l.append(res)\n",
    "    return l\n",
    "f(5)"
   ]
  },
  {
   "cell_type": "code",
   "execution_count": 25,
   "id": "9b27802c",
   "metadata": {},
   "outputs": [
    {
     "data": {
      "text/plain": [
       "4"
      ]
     },
     "execution_count": 25,
     "metadata": {},
     "output_type": "execute_result"
    }
   ],
   "source": [
    "def square(x):\n",
    "    \"\"\" x'in karesini hesaplar \"\"\"\n",
    "    return pow(x,2)\n",
    "square(2)"
   ]
  },
  {
   "cell_type": "code",
   "execution_count": 12,
   "id": "dc856520",
   "metadata": {},
   "outputs": [
    {
     "data": {
      "text/plain": [
       "(4, 6)"
      ]
     },
     "execution_count": 12,
     "metadata": {},
     "output_type": "execute_result"
    }
   ],
   "source": [
    "def f(x):\n",
    "    return 2*x , 3*x # tuple\n",
    "f(2)"
   ]
  },
  {
   "cell_type": "code",
   "execution_count": 13,
   "id": "9735fbe1",
   "metadata": {},
   "outputs": [
    {
     "data": {
      "text/plain": [
       "tuple"
      ]
     },
     "execution_count": 13,
     "metadata": {},
     "output_type": "execute_result"
    }
   ],
   "source": [
    "type(f(2))"
   ]
  },
  {
   "cell_type": "code",
   "execution_count": 14,
   "id": "10c0e6bc",
   "metadata": {},
   "outputs": [
    {
     "data": {
      "text/plain": [
       "function"
      ]
     },
     "execution_count": 14,
     "metadata": {},
     "output_type": "execute_result"
    }
   ],
   "source": [
    "type(f)"
   ]
  },
  {
   "cell_type": "code",
   "execution_count": 15,
   "id": "8ee9c43b",
   "metadata": {},
   "outputs": [
    {
     "name": "stdout",
     "output_type": "stream",
     "text": [
      "4 6\n"
     ]
    }
   ],
   "source": [
    "a , b = f(2)\n",
    "print(a,b)"
   ]
  },
  {
   "cell_type": "code",
   "execution_count": 16,
   "id": "3fae5fe0",
   "metadata": {},
   "outputs": [
    {
     "name": "stdout",
     "output_type": "stream",
     "text": [
      "Hello Mary\n"
     ]
    }
   ],
   "source": [
    "def hello(end, start=\"Hello\"):\n",
    "    print(start+\" \"+end)\n",
    "    return\n",
    "hello(\"Mary\")\n"
   ]
  },
  {
   "cell_type": "code",
   "execution_count": 17,
   "id": "7f2f7694",
   "metadata": {},
   "outputs": [
    {
     "name": "stdout",
     "output_type": "stream",
     "text": [
      "Monroe Mary\n"
     ]
    }
   ],
   "source": [
    "hello(\"Mary\",\"Monroe\")"
   ]
  },
  {
   "cell_type": "code",
   "execution_count": 18,
   "id": "6ed8ce7f",
   "metadata": {},
   "outputs": [
    {
     "name": "stdout",
     "output_type": "stream",
     "text": [
      "Hello Mary\n"
     ]
    }
   ],
   "source": [
    "hello(\"Mary\")"
   ]
  },
  {
   "cell_type": "code",
   "execution_count": 19,
   "id": "e6303f11",
   "metadata": {},
   "outputs": [
    {
     "data": {
      "text/plain": [
       "5"
      ]
     },
     "execution_count": 19,
     "metadata": {},
     "output_type": "execute_result"
    }
   ],
   "source": [
    "def f(x, y=1, z=2):\n",
    "    return x+y+z\n",
    "f(2)"
   ]
  },
  {
   "cell_type": "code",
   "execution_count": 20,
   "id": "5558c8ac",
   "metadata": {},
   "outputs": [
    {
     "data": {
      "text/plain": [
       "9"
      ]
     },
     "execution_count": 20,
     "metadata": {},
     "output_type": "execute_result"
    }
   ],
   "source": [
    "f(2,5)"
   ]
  },
  {
   "cell_type": "code",
   "execution_count": 21,
   "id": "7cb25793",
   "metadata": {},
   "outputs": [
    {
     "data": {
      "text/plain": [
       "15"
      ]
     },
     "execution_count": 21,
     "metadata": {},
     "output_type": "execute_result"
    }
   ],
   "source": [
    "f(2,5,8)"
   ]
  },
  {
   "cell_type": "markdown",
   "id": "c7b4420b",
   "metadata": {},
   "source": [
    "* Predefined parameters must be at the end."
   ]
  },
  {
   "cell_type": "markdown",
   "id": "2854a598",
   "metadata": {},
   "source": [
    "## Input update - List"
   ]
  },
  {
   "cell_type": "code",
   "execution_count": 29,
   "id": "afdabcc0",
   "metadata": {},
   "outputs": [],
   "source": [
    "l = [1,2,3]\n",
    "l2 = l"
   ]
  },
  {
   "cell_type": "code",
   "execution_count": 30,
   "id": "26415acd",
   "metadata": {
    "scrolled": false
   },
   "outputs": [
    {
     "name": "stdout",
     "output_type": "stream",
     "text": [
      "[1, 2, 3] [1, 2, 3]\n"
     ]
    }
   ],
   "source": [
    "print(l,l2)"
   ]
  },
  {
   "cell_type": "code",
   "execution_count": 31,
   "id": "7501c6f0",
   "metadata": {
    "scrolled": true
   },
   "outputs": [
    {
     "name": "stdout",
     "output_type": "stream",
     "text": [
      "[1, 2, 3, 4] [1, 2, 3, 4]\n"
     ]
    }
   ],
   "source": [
    "l2.append(4)\n",
    "print(l,l2) # both l and l2 changes together"
   ]
  },
  {
   "cell_type": "code",
   "execution_count": 32,
   "id": "dbb1f36f",
   "metadata": {},
   "outputs": [
    {
     "data": {
      "text/plain": [
       "['a', 2, 3, 4]"
      ]
     },
     "execution_count": 32,
     "metadata": {},
     "output_type": "execute_result"
    }
   ],
   "source": [
    "def f(x):\n",
    "    x[0]=\"a\"\n",
    "    return l # l changes\n",
    "f(l)"
   ]
  },
  {
   "cell_type": "code",
   "execution_count": 33,
   "id": "a366877f",
   "metadata": {},
   "outputs": [
    {
     "data": {
      "text/plain": [
       "(['a', 2, 3, 4], ['a', 2, 3, 4])"
      ]
     },
     "execution_count": 33,
     "metadata": {},
     "output_type": "execute_result"
    }
   ],
   "source": [
    "l,l2"
   ]
  },
  {
   "cell_type": "code",
   "execution_count": 41,
   "id": "46282ff4",
   "metadata": {},
   "outputs": [
    {
     "data": {
      "text/plain": [
       "25"
      ]
     },
     "execution_count": 41,
     "metadata": {},
     "output_type": "execute_result"
    }
   ],
   "source": [
    "def square(x):\n",
    "    return pow(x,2)\n",
    "a = square # function can be a variable\n",
    "a(5)"
   ]
  },
  {
   "cell_type": "code",
   "execution_count": 42,
   "id": "2eb97aa7",
   "metadata": {},
   "outputs": [
    {
     "data": {
      "text/plain": [
       "13"
      ]
     },
     "execution_count": 42,
     "metadata": {},
     "output_type": "execute_result"
    }
   ],
   "source": [
    "def f2(x,f): # function can be a parameter of a function\n",
    "    return f(x)+4\n",
    "f2(3,a)"
   ]
  },
  {
   "cell_type": "code",
   "execution_count": 43,
   "id": "b472d012",
   "metadata": {
    "scrolled": true
   },
   "outputs": [
    {
     "name": "stdout",
     "output_type": "stream",
     "text": [
      "[1, 8, 27, 64]\n"
     ]
    }
   ],
   "source": [
    "l = [1,2,3,4] # Applying the function to the all items in the list\n",
    "def apply(l,f):\n",
    "    n=len(l)\n",
    "    for i in range(n):\n",
    "        l[i]=f(l[i])\n",
    "def cube(x):\n",
    "    return pow(x,3)\n",
    "apply(l,cube)\n",
    "print(l)"
   ]
  },
  {
   "cell_type": "code",
   "execution_count": 44,
   "id": "26370bc4",
   "metadata": {},
   "outputs": [
    {
     "data": {
      "text/plain": [
       "[25, 125]"
      ]
     },
     "execution_count": 44,
     "metadata": {},
     "output_type": "execute_result"
    }
   ],
   "source": [
    "def f_f(f_list,x): # Applying a list of function to a certain value\n",
    "    l=[]\n",
    "    for f in f_list:\n",
    "        l.append(f(x))\n",
    "    return l\n",
    "apply_funcs([square,cube],5)"
   ]
  }
 ],
 "metadata": {
  "kernelspec": {
   "display_name": "Python 3 (ipykernel)",
   "language": "python",
   "name": "python3"
  },
  "language_info": {
   "codemirror_mode": {
    "name": "ipython",
    "version": 3
   },
   "file_extension": ".py",
   "mimetype": "text/x-python",
   "name": "python",
   "nbconvert_exporter": "python",
   "pygments_lexer": "ipython3",
   "version": "3.9.12"
  }
 },
 "nbformat": 4,
 "nbformat_minor": 5
}
