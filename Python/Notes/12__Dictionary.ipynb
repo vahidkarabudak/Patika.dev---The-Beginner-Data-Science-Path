{
 "cells": [
  {
   "cell_type": "markdown",
   "id": "5310259c",
   "metadata": {},
   "source": [
    "# Dictionary"
   ]
  },
  {
   "cell_type": "code",
   "execution_count": 2,
   "id": "58477238",
   "metadata": {},
   "outputs": [
    {
     "name": "stdout",
     "output_type": "stream",
     "text": [
      "{'Dennis': 80, 'Arya': 72, 'Gabriel': 95}\n",
      "<class 'dict'>\n"
     ]
    }
   ],
   "source": [
    "grades = {\"Dennis\": 80, \"Arya\":72, \"Gabriel\": 95}\n",
    "print(grades)\n",
    "print(type(grades))"
   ]
  },
  {
   "cell_type": "code",
   "execution_count": 9,
   "id": "0d9379a9",
   "metadata": {},
   "outputs": [
    {
     "data": {
      "text/plain": [
       "{'grade': 72, 'id': 802}"
      ]
     },
     "execution_count": 9,
     "metadata": {},
     "output_type": "execute_result"
    }
   ],
   "source": [
    "grades = {\n",
    "    \"Dennis\":{\"grade\":80,\"id\":703}, \n",
    "    \"Arya\":{\"grade\":72,\"id\":802},\n",
    "    \"Gabriel\":{\"grade\":95,\"id\":691}\n",
    "}\n",
    "grades[\"Arya\"]"
   ]
  },
  {
   "cell_type": "code",
   "execution_count": 8,
   "id": "cfa5ff09",
   "metadata": {},
   "outputs": [
    {
     "data": {
      "text/plain": [
       "72"
      ]
     },
     "execution_count": 8,
     "metadata": {},
     "output_type": "execute_result"
    }
   ],
   "source": [
    "grades[\"Arya\"][\"grade\"]"
   ]
  },
  {
   "cell_type": "code",
   "execution_count": 11,
   "id": "e9f16fd5",
   "metadata": {},
   "outputs": [
    {
     "name": "stdout",
     "output_type": "stream",
     "text": [
      "{'Dennis': 80, 'Arya': 77, 'Gabriel': 95}\n"
     ]
    }
   ],
   "source": [
    "grades = {\"Dennis\": 80, \"Arya\":72, \"Gabriel\": 95}\n",
    "grades[\"Arya\"] = grades[\"Arya\"]+5\n",
    "print(grades)"
   ]
  },
  {
   "cell_type": "code",
   "execution_count": 12,
   "id": "99445d28",
   "metadata": {},
   "outputs": [
    {
     "data": {
      "text/plain": [
       "3"
      ]
     },
     "execution_count": 12,
     "metadata": {},
     "output_type": "execute_result"
    }
   ],
   "source": [
    "len(grades)"
   ]
  },
  {
   "cell_type": "code",
   "execution_count": 17,
   "id": "d89a5104",
   "metadata": {},
   "outputs": [
    {
     "name": "stdout",
     "output_type": "stream",
     "text": [
      "{'Dennis': 80, 'Arya': 77, 'Gabriel': 95, 'Kean': 63}\n"
     ]
    }
   ],
   "source": [
    "grades[\"Kean\"]=63 # Kean is added\n",
    "print(grades)"
   ]
  },
  {
   "cell_type": "code",
   "execution_count": 18,
   "id": "e575582e",
   "metadata": {},
   "outputs": [
    {
     "name": "stdout",
     "output_type": "stream",
     "text": [
      "{'Dennis': 80, 'Arya': 77, 'Gabriel': 95}\n"
     ]
    }
   ],
   "source": [
    "del grades[\"Kean\"] # Kean is deleted\n",
    "print(grades)"
   ]
  },
  {
   "cell_type": "code",
   "execution_count": 19,
   "id": "b563f004",
   "metadata": {},
   "outputs": [
    {
     "data": {
      "text/plain": [
       "dict"
      ]
     },
     "execution_count": 19,
     "metadata": {},
     "output_type": "execute_result"
    }
   ],
   "source": [
    "d = {} # an empty dictionary\n",
    "type(d)"
   ]
  },
  {
   "cell_type": "code",
   "execution_count": 22,
   "id": "2da6cabb",
   "metadata": {},
   "outputs": [
    {
     "name": "stdout",
     "output_type": "stream",
     "text": [
      "{1: 'a'}\n"
     ]
    }
   ],
   "source": [
    "d[1]=\"a\"\n",
    "print(d)"
   ]
  },
  {
   "cell_type": "code",
   "execution_count": 23,
   "id": "509e9982",
   "metadata": {},
   "outputs": [
    {
     "data": {
      "text/plain": [
       "False"
      ]
     },
     "execution_count": 23,
     "metadata": {},
     "output_type": "execute_result"
    }
   ],
   "source": [
    "grades = {\"Dennis\": 80, \"Arya\":72, \"Gabriel\": 95}\n",
    "\"Kean\" in grades"
   ]
  },
  {
   "cell_type": "code",
   "execution_count": 24,
   "id": "a0753032",
   "metadata": {},
   "outputs": [
    {
     "data": {
      "text/plain": [
       "True"
      ]
     },
     "execution_count": 24,
     "metadata": {},
     "output_type": "execute_result"
    }
   ],
   "source": [
    "\"Dennis\" in grades"
   ]
  }
 ],
 "metadata": {
  "kernelspec": {
   "display_name": "Python 3 (ipykernel)",
   "language": "python",
   "name": "python3"
  },
  "language_info": {
   "codemirror_mode": {
    "name": "ipython",
    "version": 3
   },
   "file_extension": ".py",
   "mimetype": "text/x-python",
   "name": "python",
   "nbconvert_exporter": "python",
   "pygments_lexer": "ipython3",
   "version": "3.9.12"
  }
 },
 "nbformat": 4,
 "nbformat_minor": 5
}
