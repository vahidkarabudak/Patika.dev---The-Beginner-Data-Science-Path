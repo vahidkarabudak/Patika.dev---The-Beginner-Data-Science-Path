{
 "cells": [
  {
   "cell_type": "markdown",
   "id": "5a7ce104",
   "metadata": {},
   "source": [
    "# Lists"
   ]
  },
  {
   "cell_type": "code",
   "execution_count": 8,
   "id": "ff98e574",
   "metadata": {},
   "outputs": [
    {
     "name": "stdout",
     "output_type": "stream",
     "text": [
      "[1, 2, 'a', 'b', True, 4.5, [1, 2, 3]]\n"
     ]
    }
   ],
   "source": [
    "# different types can be included in the same list\n",
    "\n",
    "l = [1,2,\"a\",\"b\",True,4.5,[1,2,3]]\n",
    "print(l)"
   ]
  },
  {
   "cell_type": "code",
   "execution_count": 4,
   "id": "1ce43f4c",
   "metadata": {},
   "outputs": [
    {
     "data": {
      "text/plain": [
       "78"
      ]
     },
     "execution_count": 4,
     "metadata": {},
     "output_type": "execute_result"
    }
   ],
   "source": [
    "grades = [78,80,43,65,90]\n",
    "grades[0] # The first item"
   ]
  },
  {
   "cell_type": "code",
   "execution_count": 5,
   "id": "28bfcf9c",
   "metadata": {},
   "outputs": [
    {
     "data": {
      "text/plain": [
       "90"
      ]
     },
     "execution_count": 5,
     "metadata": {},
     "output_type": "execute_result"
    }
   ],
   "source": [
    "grades = [78,80,43,65,90]\n",
    "grades[len(grades)-1] # the last item"
   ]
  },
  {
   "cell_type": "code",
   "execution_count": 9,
   "id": "92c73f9c",
   "metadata": {},
   "outputs": [
    {
     "data": {
      "text/plain": [
       "90"
      ]
     },
     "execution_count": 9,
     "metadata": {},
     "output_type": "execute_result"
    }
   ],
   "source": [
    "grades = [78,80,43,65,90]\n",
    "grades[-1]"
   ]
  },
  {
   "cell_type": "code",
   "execution_count": 10,
   "id": "9de76242",
   "metadata": {},
   "outputs": [
    {
     "data": {
      "text/plain": [
       "[43, 65]"
      ]
     },
     "execution_count": 10,
     "metadata": {},
     "output_type": "execute_result"
    }
   ],
   "source": [
    "grades = [78,80,43,65,90]\n",
    "grades[2:4] # The items with the index number 2 and 3"
   ]
  },
  {
   "cell_type": "code",
   "execution_count": 11,
   "id": "22be8d1d",
   "metadata": {},
   "outputs": [
    {
     "data": {
      "text/plain": [
       "[43, 65, 90]"
      ]
     },
     "execution_count": 11,
     "metadata": {},
     "output_type": "execute_result"
    }
   ],
   "source": [
    "grades = [78,80,43,65,90]\n",
    "grades[2:] # The items with the index number >= 2"
   ]
  },
  {
   "cell_type": "code",
   "execution_count": 12,
   "id": "866829a1",
   "metadata": {},
   "outputs": [
    {
     "data": {
      "text/plain": [
       "[78, 80, 43, 65, 90]"
      ]
     },
     "execution_count": 12,
     "metadata": {},
     "output_type": "execute_result"
    }
   ],
   "source": [
    "grades[:1000]"
   ]
  },
  {
   "cell_type": "code",
   "execution_count": 14,
   "id": "5f6f84bb",
   "metadata": {},
   "outputs": [
    {
     "name": "stdout",
     "output_type": "stream",
     "text": [
      "[78, 85, 43, 65, 90]\n"
     ]
    }
   ],
   "source": [
    "grades = [78,80,43,65,90]\n",
    "grades[1]+=5 # lists are mutable\n",
    "print(grades)"
   ]
  },
  {
   "cell_type": "code",
   "execution_count": 15,
   "id": "a4b4270e",
   "metadata": {},
   "outputs": [
    {
     "name": "stdout",
     "output_type": "stream",
     "text": [
      "[30, 40, 60, 65, 90]\n"
     ]
    }
   ],
   "source": [
    "grades = [78,80,43,65,90]\n",
    "grades[0:3] = 30,40,60 # lists are mutable\n",
    "print(grades)"
   ]
  },
  {
   "cell_type": "code",
   "execution_count": 18,
   "id": "1be1e3e1",
   "metadata": {},
   "outputs": [
    {
     "name": "stdout",
     "output_type": "stream",
     "text": [
      "[30, 40, 90]\n"
     ]
    }
   ],
   "source": [
    "grades = [78,80,43,65,90]\n",
    "grades[0:4] = 30,40\n",
    "print(grades)"
   ]
  },
  {
   "cell_type": "code",
   "execution_count": 19,
   "id": "274cd281",
   "metadata": {},
   "outputs": [
    {
     "data": {
      "text/plain": [
       "5"
      ]
     },
     "execution_count": 19,
     "metadata": {},
     "output_type": "execute_result"
    }
   ],
   "source": [
    "grades = [78,80,43,65,90]\n",
    "len(grades)"
   ]
  },
  {
   "cell_type": "code",
   "execution_count": 22,
   "id": "a03c6bca",
   "metadata": {},
   "outputs": [
    {
     "name": "stdout",
     "output_type": "stream",
     "text": [
      "[78, 80, 43, 65, 90, 93]\n"
     ]
    }
   ],
   "source": [
    "grades = [78,80,43,65,90]\n",
    "grades.append(93)\n",
    "print(grades)"
   ]
  },
  {
   "cell_type": "code",
   "execution_count": 23,
   "id": "6603709f",
   "metadata": {},
   "outputs": [
    {
     "name": "stdout",
     "output_type": "stream",
     "text": [
      "[78, 80, 43, 65, 90, 91, 92, 93]\n"
     ]
    }
   ],
   "source": [
    "grades = [78,80,43,65,90]\n",
    "grades.extend([91,92,93])\n",
    "print(grades)"
   ]
  },
  {
   "cell_type": "code",
   "execution_count": 25,
   "id": "05156349",
   "metadata": {},
   "outputs": [
    {
     "name": "stdout",
     "output_type": "stream",
     "text": [
      "[78, 80, 43, 93, 65, 90]\n"
     ]
    }
   ],
   "source": [
    "grades = [78,80,43,65,90]\n",
    "grades.insert(3,93)\n",
    "print(grades)"
   ]
  },
  {
   "cell_type": "code",
   "execution_count": 26,
   "id": "6bb80896",
   "metadata": {},
   "outputs": [
    {
     "name": "stdout",
     "output_type": "stream",
     "text": [
      "[10, 30, 20, 30, 40]\n"
     ]
    }
   ],
   "source": [
    "l = [10,20,30,20,30,40]\n",
    "l.remove(20) # only first 20 is deleted\n",
    "print(l)"
   ]
  },
  {
   "cell_type": "code",
   "execution_count": 28,
   "id": "bc070bb2",
   "metadata": {},
   "outputs": [
    {
     "name": "stdout",
     "output_type": "stream",
     "text": [
      "[10, 20, 30, 30, 40]\n"
     ]
    }
   ],
   "source": [
    "l = [10,20,30,20,30,40]\n",
    "l.pop(3)\n",
    "print(l)"
   ]
  },
  {
   "cell_type": "code",
   "execution_count": 30,
   "id": "e4731d7f",
   "metadata": {},
   "outputs": [
    {
     "data": {
      "text/plain": [
       "1"
      ]
     },
     "execution_count": 30,
     "metadata": {},
     "output_type": "execute_result"
    }
   ],
   "source": [
    "l = [10,20,30,20,30,40]\n",
    "l.count(10) # How many 10s are exist in the list"
   ]
  },
  {
   "cell_type": "code",
   "execution_count": 31,
   "id": "88dd30c8",
   "metadata": {},
   "outputs": [
    {
     "data": {
      "text/plain": [
       "2"
      ]
     },
     "execution_count": 31,
     "metadata": {},
     "output_type": "execute_result"
    }
   ],
   "source": [
    "l = [10,20,30,20,30,40]\n",
    "l.count(20) # How many 20s are exist in the list"
   ]
  },
  {
   "cell_type": "code",
   "execution_count": 35,
   "id": "abf3f8a4",
   "metadata": {},
   "outputs": [
    {
     "name": "stdout",
     "output_type": "stream",
     "text": [
      "[1, 2, 3, 4, 5] [1, 2, 3, 4, 5]\n",
      "[1, 2, 3, 4, 5, 6, 7] [1, 2, 3, 4, 5, 6, 7]\n"
     ]
    }
   ],
   "source": [
    "l = [1,2,3,4,5]\n",
    "l2 = l\n",
    "print(l,l2)\n",
    "l.extend([6,7])\n",
    "print(l,l2) # Both l and l2 change"
   ]
  },
  {
   "cell_type": "code",
   "execution_count": 37,
   "id": "1b14db40",
   "metadata": {},
   "outputs": [
    {
     "name": "stdout",
     "output_type": "stream",
     "text": [
      "[1, 2, 3, 4, 5] [1, 2, 3, 4, 5]\n",
      "[1, 2, 3, 4, 5, 6, 7] [1, 2, 3, 4, 5]\n"
     ]
    }
   ],
   "source": [
    "l = [1,2,3,4,5]\n",
    "l2 = l.copy()\n",
    "print(l,l2)\n",
    "l.extend([6,7])\n",
    "print(l,l2) # Only l changes "
   ]
  },
  {
   "cell_type": "code",
   "execution_count": 38,
   "id": "6b3f7174",
   "metadata": {},
   "outputs": [
    {
     "name": "stdout",
     "output_type": "stream",
     "text": [
      "[1, 2, 3, 4, 5, 6]\n"
     ]
    }
   ],
   "source": [
    "l = [1,2,3]\n",
    "l2 = [4,5,6]\n",
    "print(l+l2)"
   ]
  },
  {
   "cell_type": "code",
   "execution_count": 40,
   "id": "9a20f119",
   "metadata": {},
   "outputs": [
    {
     "data": {
      "text/plain": [
       "2"
      ]
     },
     "execution_count": 40,
     "metadata": {},
     "output_type": "execute_result"
    }
   ],
   "source": [
    "l = [1,2,3,4,3,5,6]\n",
    "l.index(3) # The index of first 3"
   ]
  },
  {
   "cell_type": "code",
   "execution_count": 49,
   "id": "5ff0d6b1",
   "metadata": {},
   "outputs": [
    {
     "name": "stdout",
     "output_type": "stream",
     "text": [
      "[4, 3, 2, 1]\n",
      "[1, 2, 3, 4]\n",
      "[4, 3, 2, 1]\n"
     ]
    }
   ],
   "source": [
    "l = [1,2,3,4]\n",
    "l.reverse() # The original l is updated\n",
    "print(l)\n",
    "print(l[::-1]) # The original l is not updated\n",
    "print(l)"
   ]
  },
  {
   "cell_type": "code",
   "execution_count": 53,
   "id": "ecab4f5c",
   "metadata": {},
   "outputs": [
    {
     "data": {
      "text/plain": [
       "['a', 'b', 'c']"
      ]
     },
     "execution_count": 53,
     "metadata": {},
     "output_type": "execute_result"
    }
   ],
   "source": [
    "l = [\"b\",\"c\",\"a\"]\n",
    "sorted(l)"
   ]
  },
  {
   "cell_type": "code",
   "execution_count": 55,
   "id": "b105eefa",
   "metadata": {},
   "outputs": [
    {
     "name": "stdout",
     "output_type": "stream",
     "text": [
      "[-1, 1, 2, 3, 10]\n"
     ]
    }
   ],
   "source": [
    "l = [1, 2, 10, 3, -1]\n",
    "l.sort()\n",
    "print(l)"
   ]
  },
  {
   "cell_type": "code",
   "execution_count": 1,
   "id": "4ebb3c5d",
   "metadata": {},
   "outputs": [
    {
     "data": {
      "text/plain": [
       "True"
      ]
     },
     "execution_count": 1,
     "metadata": {},
     "output_type": "execute_result"
    }
   ],
   "source": [
    "l = [1, 2, 10, 3, -1]\n",
    "2 in l # There are 2 in l"
   ]
  },
  {
   "cell_type": "code",
   "execution_count": 2,
   "id": "a1ed11d9",
   "metadata": {},
   "outputs": [
    {
     "data": {
      "text/plain": [
       "False"
      ]
     },
     "execution_count": 2,
     "metadata": {},
     "output_type": "execute_result"
    }
   ],
   "source": [
    "l = [1, 2, 10, 3, -1]\n",
    "8 in l # There are no 8 in l"
   ]
  }
 ],
 "metadata": {
  "kernelspec": {
   "display_name": "Python 3 (ipykernel)",
   "language": "python",
   "name": "python3"
  },
  "language_info": {
   "codemirror_mode": {
    "name": "ipython",
    "version": 3
   },
   "file_extension": ".py",
   "mimetype": "text/x-python",
   "name": "python",
   "nbconvert_exporter": "python",
   "pygments_lexer": "ipython3",
   "version": "3.9.12"
  }
 },
 "nbformat": 4,
 "nbformat_minor": 5
}
