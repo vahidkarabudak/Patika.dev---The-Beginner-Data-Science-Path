{
 "cells": [
  {
   "cell_type": "markdown",
   "id": "fe3946c0",
   "metadata": {},
   "source": [
    "# Comment"
   ]
  },
  {
   "cell_type": "markdown",
   "id": "71e7c8e7",
   "metadata": {},
   "source": [
    "* #\n",
    "* \"\"\" \n",
    "  \n",
    "  Code goes here \n",
    "  \n",
    "  \"\"\""
   ]
  },
  {
   "cell_type": "code",
   "execution_count": 1,
   "id": "b8d5e382",
   "metadata": {},
   "outputs": [],
   "source": [
    "# One line comment"
   ]
  },
  {
   "cell_type": "code",
   "execution_count": 4,
   "id": "6c46f96f",
   "metadata": {},
   "outputs": [
    {
     "data": {
      "text/plain": [
       "'\\nMulti-line comment\\n'"
      ]
     },
     "execution_count": 4,
     "metadata": {},
     "output_type": "execute_result"
    }
   ],
   "source": [
    "\"\"\"\n",
    "Multi-line comment\n",
    "\"\"\""
   ]
  }
 ],
 "metadata": {
  "kernelspec": {
   "display_name": "Python 3 (ipykernel)",
   "language": "python",
   "name": "python3"
  },
  "language_info": {
   "codemirror_mode": {
    "name": "ipython",
    "version": 3
   },
   "file_extension": ".py",
   "mimetype": "text/x-python",
   "name": "python",
   "nbconvert_exporter": "python",
   "pygments_lexer": "ipython3",
   "version": "3.9.12"
  }
 },
 "nbformat": 4,
 "nbformat_minor": 5
}
