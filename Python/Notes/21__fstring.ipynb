{
 "cells": [
  {
   "cell_type": "markdown",
   "id": "ef3c459c",
   "metadata": {},
   "source": [
    "# fstring"
   ]
  },
  {
   "cell_type": "markdown",
   "id": "4f2c435c",
   "metadata": {},
   "source": [
    "* f\"text {variable}\""
   ]
  },
  {
   "cell_type": "code",
   "execution_count": 1,
   "id": "73ccbda7",
   "metadata": {},
   "outputs": [
    {
     "data": {
      "text/plain": [
       "'value ofx: 2'"
      ]
     },
     "execution_count": 1,
     "metadata": {},
     "output_type": "execute_result"
    }
   ],
   "source": [
    "x=2\n",
    "f\"value ofx: {x}\""
   ]
  },
  {
   "cell_type": "code",
   "execution_count": 2,
   "id": "689e1b57",
   "metadata": {},
   "outputs": [
    {
     "data": {
      "text/plain": [
       "'value of x + 2: 4'"
      ]
     },
     "execution_count": 2,
     "metadata": {},
     "output_type": "execute_result"
    }
   ],
   "source": [
    "f\"value of x + 2: {x+2}\""
   ]
  },
  {
   "cell_type": "code",
   "execution_count": 3,
   "id": "d29252d3",
   "metadata": {},
   "outputs": [
    {
     "name": "stdout",
     "output_type": "stream",
     "text": [
      "name:Mary\n"
     ]
    },
    {
     "data": {
      "text/plain": [
       "'given name: Mary'"
      ]
     },
     "execution_count": 3,
     "metadata": {},
     "output_type": "execute_result"
    }
   ],
   "source": [
    "name = input(\"name:\")\n",
    "f\"given name: {name}\""
   ]
  },
  {
   "cell_type": "code",
   "execution_count": 4,
   "id": "6f78e727",
   "metadata": {},
   "outputs": [
    {
     "data": {
      "text/plain": [
       "'given list: [1, 2, 3, 4]'"
      ]
     },
     "execution_count": 4,
     "metadata": {},
     "output_type": "execute_result"
    }
   ],
   "source": [
    "l = [1,2,3,4]\n",
    "f\"given list: {l}\""
   ]
  },
  {
   "cell_type": "code",
   "execution_count": 5,
   "id": "c9800dab",
   "metadata": {},
   "outputs": [
    {
     "data": {
      "text/plain": [
       "'given dictionary: {1: 2, 2: 3, 3: 4, 4: 5}'"
      ]
     },
     "execution_count": 5,
     "metadata": {},
     "output_type": "execute_result"
    }
   ],
   "source": [
    "d = {1:2,2:3,3:4,4:5}\n",
    "f\"given dictionary: {d}\""
   ]
  },
  {
   "cell_type": "code",
   "execution_count": 6,
   "id": "5858fea9",
   "metadata": {},
   "outputs": [
    {
     "data": {
      "text/plain": [
       "' square of: 10 is 100'"
      ]
     },
     "execution_count": 6,
     "metadata": {},
     "output_type": "execute_result"
    }
   ],
   "source": [
    "def square(x):\n",
    "    return pow(x,2)\n",
    "a=10\n",
    "f\" square of: {a} is {square(a)}\""
   ]
  }
 ],
 "metadata": {
  "kernelspec": {
   "display_name": "Python 3 (ipykernel)",
   "language": "python",
   "name": "python3"
  },
  "language_info": {
   "codemirror_mode": {
    "name": "ipython",
    "version": 3
   },
   "file_extension": ".py",
   "mimetype": "text/x-python",
   "name": "python",
   "nbconvert_exporter": "python",
   "pygments_lexer": "ipython3",
   "version": "3.9.12"
  }
 },
 "nbformat": 4,
 "nbformat_minor": 5
}
