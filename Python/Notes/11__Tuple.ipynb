{
 "cells": [
  {
   "cell_type": "markdown",
   "id": "a7a9257d",
   "metadata": {},
   "source": [
    "# Tuple"
   ]
  },
  {
   "cell_type": "markdown",
   "id": "2ffe5081",
   "metadata": {},
   "source": [
    "* tuples are immutable"
   ]
  },
  {
   "cell_type": "code",
   "execution_count": 4,
   "id": "ea209f67",
   "metadata": {},
   "outputs": [
    {
     "data": {
      "text/plain": [
       "10"
      ]
     },
     "execution_count": 4,
     "metadata": {},
     "output_type": "execute_result"
    }
   ],
   "source": [
    "t = (10, 34,45,52,74)\n",
    "t[0]"
   ]
  },
  {
   "cell_type": "code",
   "execution_count": 5,
   "id": "d61bab4c",
   "metadata": {},
   "outputs": [
    {
     "data": {
      "text/plain": [
       "(10, 34, 45, 52, 74)"
      ]
     },
     "execution_count": 5,
     "metadata": {},
     "output_type": "execute_result"
    }
   ],
   "source": [
    "t = (10, 34,45,52,74)\n",
    "t[:]"
   ]
  },
  {
   "cell_type": "code",
   "execution_count": 6,
   "id": "683dbb6b",
   "metadata": {},
   "outputs": [
    {
     "name": "stdout",
     "output_type": "stream",
     "text": [
      "(1, 2, 3, 'a', 'b', (2, 5), [2, 5])\n"
     ]
    }
   ],
   "source": [
    "t = (1,2,3,\"a\",\"b\",(2,5),[2,5])\n",
    "print(t)"
   ]
  },
  {
   "cell_type": "code",
   "execution_count": 8,
   "id": "2f4478bf",
   "metadata": {},
   "outputs": [
    {
     "data": {
      "text/plain": [
       "tuple"
      ]
     },
     "execution_count": 8,
     "metadata": {},
     "output_type": "execute_result"
    }
   ],
   "source": [
    "a = 1,2,3,4 # For tuple, no need to paranthesis\n",
    "type(a)"
   ]
  },
  {
   "cell_type": "code",
   "execution_count": 9,
   "id": "40b464b1",
   "metadata": {},
   "outputs": [
    {
     "data": {
      "text/plain": [
       "True"
      ]
     },
     "execution_count": 9,
     "metadata": {},
     "output_type": "execute_result"
    }
   ],
   "source": [
    "t = (1,2,3,\"a\",\"b\",(2,5),[2,5])\n",
    "3 in t # There are 3 in tuple"
   ]
  },
  {
   "cell_type": "code",
   "execution_count": 11,
   "id": "30f06af2",
   "metadata": {},
   "outputs": [
    {
     "data": {
      "text/plain": [
       "False"
      ]
     },
     "execution_count": 11,
     "metadata": {},
     "output_type": "execute_result"
    }
   ],
   "source": [
    "t = (1,2,3,\"a\",\"b\",(2,5),[2,5])\n",
    "8 in t # There are no 8 in tuple"
   ]
  }
 ],
 "metadata": {
  "kernelspec": {
   "display_name": "Python 3 (ipykernel)",
   "language": "python",
   "name": "python3"
  },
  "language_info": {
   "codemirror_mode": {
    "name": "ipython",
    "version": 3
   },
   "file_extension": ".py",
   "mimetype": "text/x-python",
   "name": "python",
   "nbconvert_exporter": "python",
   "pygments_lexer": "ipython3",
   "version": "3.9.12"
  }
 },
 "nbformat": 4,
 "nbformat_minor": 5
}
