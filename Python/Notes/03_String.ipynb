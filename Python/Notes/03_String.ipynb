{
 "cells": [
  {
   "cell_type": "markdown",
   "id": "ca3ecda8",
   "metadata": {},
   "source": [
    "# String"
   ]
  },
  {
   "cell_type": "code",
   "execution_count": 1,
   "id": "fa25c8ff",
   "metadata": {},
   "outputs": [
    {
     "data": {
      "text/plain": [
       "str"
      ]
     },
     "execution_count": 1,
     "metadata": {},
     "output_type": "execute_result"
    }
   ],
   "source": [
    "a = \"5\"\n",
    "type(a)"
   ]
  },
  {
   "cell_type": "code",
   "execution_count": 2,
   "id": "3fa5e448",
   "metadata": {},
   "outputs": [
    {
     "data": {
      "text/plain": [
       "str"
      ]
     },
     "execution_count": 2,
     "metadata": {},
     "output_type": "execute_result"
    }
   ],
   "source": [
    "a = '5'\n",
    "type(a)"
   ]
  },
  {
   "cell_type": "code",
   "execution_count": 4,
   "id": "f4187043",
   "metadata": {},
   "outputs": [
    {
     "name": "stdout",
     "output_type": "stream",
     "text": [
      "5+5\n"
     ]
    },
    {
     "data": {
      "text/plain": [
       "str"
      ]
     },
     "execution_count": 4,
     "metadata": {},
     "output_type": "execute_result"
    }
   ],
   "source": [
    "a = \"5+5\"\n",
    "print(a)\n",
    "type(a)"
   ]
  },
  {
   "cell_type": "code",
   "execution_count": 6,
   "id": "16852ce2",
   "metadata": {},
   "outputs": [
    {
     "name": "stdout",
     "output_type": "stream",
     "text": [
      "He said \"What happened today?\" I'm surprised\n"
     ]
    }
   ],
   "source": [
    "print(\"He said \\\"What happened today?\\\" I'm surprised\")"
   ]
  },
  {
   "cell_type": "code",
   "execution_count": 9,
   "id": "b73558fa",
   "metadata": {},
   "outputs": [
    {
     "name": "stdout",
     "output_type": "stream",
     "text": [
      "Hey! \n",
      "How are you?\n"
     ]
    }
   ],
   "source": [
    "print(\"Hey! \\nHow are you?\")"
   ]
  },
  {
   "cell_type": "code",
   "execution_count": 10,
   "id": "0fc5000f",
   "metadata": {},
   "outputs": [
    {
     "name": "stdout",
     "output_type": "stream",
     "text": [
      "Hey! \tHow are you?\n"
     ]
    }
   ],
   "source": [
    "print(\"Hey! \\tHow are you?\")"
   ]
  },
  {
   "cell_type": "code",
   "execution_count": 11,
   "id": "1b8a66e7",
   "metadata": {},
   "outputs": [
    {
     "name": "stdout",
     "output_type": "stream",
     "text": [
      "Hmm \\\n"
     ]
    }
   ],
   "source": [
    "print(\"Hmm \\\\\")"
   ]
  },
  {
   "cell_type": "markdown",
   "id": "40cfdff9",
   "metadata": {},
   "source": [
    "## Operators on Strings"
   ]
  },
  {
   "cell_type": "code",
   "execution_count": 1,
   "id": "0c3c5819",
   "metadata": {},
   "outputs": [
    {
     "data": {
      "text/plain": [
       "'54'"
      ]
     },
     "execution_count": 1,
     "metadata": {},
     "output_type": "execute_result"
    }
   ],
   "source": [
    "\"5\"+\"4\""
   ]
  },
  {
   "cell_type": "code",
   "execution_count": 3,
   "id": "b4b4f559",
   "metadata": {},
   "outputs": [
    {
     "data": {
      "text/plain": [
       "'Hey! How are you?'"
      ]
     },
     "execution_count": 3,
     "metadata": {},
     "output_type": "execute_result"
    }
   ],
   "source": [
    "\"Hey!\"+\" \"+\"How are you?\""
   ]
  },
  {
   "cell_type": "code",
   "execution_count": 4,
   "id": "be369b0c",
   "metadata": {},
   "outputs": [
    {
     "data": {
      "text/plain": [
       "'Hi Michael'"
      ]
     },
     "execution_count": 4,
     "metadata": {},
     "output_type": "execute_result"
    }
   ],
   "source": [
    "message = \"Hi\"\n",
    "name = \"Michael\"\n",
    "message+\" \"+name"
   ]
  },
  {
   "cell_type": "code",
   "execution_count": 6,
   "id": "6275cb03",
   "metadata": {},
   "outputs": [
    {
     "name": "stdout",
     "output_type": "stream",
     "text": [
      "Hi Michael\n"
     ]
    }
   ],
   "source": [
    "message = \"Hi\"\n",
    "name = \"Michael\"\n",
    "total = message+\" \"+name\n",
    "print(total)"
   ]
  },
  {
   "cell_type": "code",
   "execution_count": 7,
   "id": "d8af3809",
   "metadata": {},
   "outputs": [
    {
     "data": {
      "text/plain": [
       "'heyheyheyhey'"
      ]
     },
     "execution_count": 7,
     "metadata": {},
     "output_type": "execute_result"
    }
   ],
   "source": [
    "4*\"hey\""
   ]
  },
  {
   "cell_type": "code",
   "execution_count": 8,
   "id": "9cdd235d",
   "metadata": {},
   "outputs": [
    {
     "data": {
      "text/plain": [
       "'10000000000'"
      ]
     },
     "execution_count": 8,
     "metadata": {},
     "output_type": "execute_result"
    }
   ],
   "source": [
    "\"1\"+\"0\"*10"
   ]
  },
  {
   "cell_type": "code",
   "execution_count": 9,
   "id": "3ac9d3d5",
   "metadata": {},
   "outputs": [
    {
     "data": {
      "text/plain": [
       "5"
      ]
     },
     "execution_count": 9,
     "metadata": {},
     "output_type": "execute_result"
    }
   ],
   "source": [
    "len(\"hello\")"
   ]
  },
  {
   "cell_type": "markdown",
   "id": "9f170e49",
   "metadata": {},
   "source": [
    "## Indexing"
   ]
  },
  {
   "cell_type": "code",
   "execution_count": 10,
   "id": "31517103",
   "metadata": {},
   "outputs": [
    {
     "data": {
      "text/plain": [
       "'M'"
      ]
     },
     "execution_count": 10,
     "metadata": {},
     "output_type": "execute_result"
    }
   ],
   "source": [
    "name = \"Michael\"\n",
    "name[0]"
   ]
  },
  {
   "cell_type": "code",
   "execution_count": 11,
   "id": "96d924ba",
   "metadata": {},
   "outputs": [
    {
     "data": {
      "text/plain": [
       "'Michael[0]'"
      ]
     },
     "execution_count": 11,
     "metadata": {},
     "output_type": "execute_result"
    }
   ],
   "source": [
    "\"Michael[0]\""
   ]
  },
  {
   "cell_type": "code",
   "execution_count": 14,
   "id": "75589bbb",
   "metadata": {},
   "outputs": [
    {
     "data": {
      "text/plain": [
       "'e'"
      ]
     },
     "execution_count": 14,
     "metadata": {},
     "output_type": "execute_result"
    }
   ],
   "source": [
    "\"Michael\"[-2]"
   ]
  },
  {
   "cell_type": "code",
   "execution_count": 15,
   "id": "d84c2802",
   "metadata": {},
   "outputs": [
    {
     "data": {
      "text/plain": [
       "7"
      ]
     },
     "execution_count": 15,
     "metadata": {},
     "output_type": "execute_result"
    }
   ],
   "source": [
    "name = \"Michael\"\n",
    "len(name)"
   ]
  },
  {
   "cell_type": "markdown",
   "id": "b5538d41",
   "metadata": {},
   "source": [
    "## Slicing Strings"
   ]
  },
  {
   "cell_type": "code",
   "execution_count": 18,
   "id": "2912257b",
   "metadata": {},
   "outputs": [
    {
     "data": {
      "text/plain": [
       "'Mic'"
      ]
     },
     "execution_count": 18,
     "metadata": {},
     "output_type": "execute_result"
    }
   ],
   "source": [
    "name = \"Michael\"\n",
    "name[0:3]"
   ]
  },
  {
   "cell_type": "code",
   "execution_count": 19,
   "id": "c4b54358",
   "metadata": {},
   "outputs": [
    {
     "data": {
      "text/plain": [
       "'hael'"
      ]
     },
     "execution_count": 19,
     "metadata": {},
     "output_type": "execute_result"
    }
   ],
   "source": [
    "name = \"Michael\"\n",
    "name[3:]"
   ]
  },
  {
   "cell_type": "code",
   "execution_count": 20,
   "id": "673c14a0",
   "metadata": {},
   "outputs": [
    {
     "data": {
      "text/plain": [
       "'Mic'"
      ]
     },
     "execution_count": 20,
     "metadata": {},
     "output_type": "execute_result"
    }
   ],
   "source": [
    "name = \"Michael\"\n",
    "name[:3]"
   ]
  },
  {
   "cell_type": "code",
   "execution_count": 21,
   "id": "62c4c11c",
   "metadata": {},
   "outputs": [
    {
     "data": {
      "text/plain": [
       "'cha'"
      ]
     },
     "execution_count": 21,
     "metadata": {},
     "output_type": "execute_result"
    }
   ],
   "source": [
    "name = \"Michael\"\n",
    "name[2:5]"
   ]
  },
  {
   "cell_type": "code",
   "execution_count": 23,
   "id": "72ca5cd7",
   "metadata": {},
   "outputs": [
    {
     "data": {
      "text/plain": [
       "'Lvrol'"
      ]
     },
     "execution_count": 23,
     "metadata": {},
     "output_type": "execute_result"
    }
   ],
   "source": [
    "name = \"Liverpool\"\n",
    "name[0:9:2]"
   ]
  },
  {
   "cell_type": "code",
   "execution_count": 24,
   "id": "f5a2321a",
   "metadata": {},
   "outputs": [
    {
     "data": {
      "text/plain": [
       "'ir'"
      ]
     },
     "execution_count": 24,
     "metadata": {},
     "output_type": "execute_result"
    }
   ],
   "source": [
    "name = \"Liverpool\"\n",
    "name[1:7:3]"
   ]
  },
  {
   "cell_type": "code",
   "execution_count": 29,
   "id": "7931b28a",
   "metadata": {},
   "outputs": [
    {
     "data": {
      "text/plain": [
       "'looprevi'"
      ]
     },
     "execution_count": 29,
     "metadata": {},
     "output_type": "execute_result"
    }
   ],
   "source": [
    "name = \"Liverpool\"\n",
    "name[8:0:-1]"
   ]
  },
  {
   "cell_type": "code",
   "execution_count": 30,
   "id": "e392a46f",
   "metadata": {},
   "outputs": [
    {
     "data": {
      "text/plain": [
       "'orv'"
      ]
     },
     "execution_count": 30,
     "metadata": {},
     "output_type": "execute_result"
    }
   ],
   "source": [
    "name = \"Liverpool\"\n",
    "name[6:0:-2]"
   ]
  },
  {
   "cell_type": "code",
   "execution_count": 31,
   "id": "db06fd56",
   "metadata": {},
   "outputs": [
    {
     "data": {
      "text/plain": [
       "'loopreviL'"
      ]
     },
     "execution_count": 31,
     "metadata": {},
     "output_type": "execute_result"
    }
   ],
   "source": [
    "name = \"Liverpool\"\n",
    "name[::-1]"
   ]
  },
  {
   "cell_type": "code",
   "execution_count": 32,
   "id": "04bb5277",
   "metadata": {},
   "outputs": [
    {
     "data": {
      "text/plain": [
       "'lorvL'"
      ]
     },
     "execution_count": 32,
     "metadata": {},
     "output_type": "execute_result"
    }
   ],
   "source": [
    "name = \"Liverpool\"\n",
    "name[::-2]"
   ]
  },
  {
   "cell_type": "markdown",
   "id": "6a5e44c4",
   "metadata": {},
   "source": [
    "## String Casting"
   ]
  },
  {
   "cell_type": "code",
   "execution_count": 36,
   "id": "64ee8e01",
   "metadata": {},
   "outputs": [
    {
     "name": "stdout",
     "output_type": "stream",
     "text": [
      "5 <class 'int'> 5.3 <class 'float'>\n"
     ]
    }
   ],
   "source": [
    "a = 5.3\n",
    "b = int(a)\n",
    "c = float(a)\n",
    "print(b,type(b),c,type(c))"
   ]
  }
 ],
 "metadata": {
  "kernelspec": {
   "display_name": "Python 3 (ipykernel)",
   "language": "python",
   "name": "python3"
  },
  "language_info": {
   "codemirror_mode": {
    "name": "ipython",
    "version": 3
   },
   "file_extension": ".py",
   "mimetype": "text/x-python",
   "name": "python",
   "nbconvert_exporter": "python",
   "pygments_lexer": "ipython3",
   "version": "3.9.12"
  }
 },
 "nbformat": 4,
 "nbformat_minor": 5
}
