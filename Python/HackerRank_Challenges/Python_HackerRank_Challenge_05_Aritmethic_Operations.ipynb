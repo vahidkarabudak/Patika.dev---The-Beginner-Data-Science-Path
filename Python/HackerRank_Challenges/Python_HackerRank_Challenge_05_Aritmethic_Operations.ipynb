{
 "cells": [
  {
   "cell_type": "markdown",
   "id": "523bf194",
   "metadata": {},
   "source": [
    "# Python_HackerRank_Challenge_05_Aritmethic_Operations"
   ]
  },
  {
   "cell_type": "code",
   "execution_count": null,
   "id": "9feef5f0",
   "metadata": {},
   "outputs": [],
   "source": [
    "a = int(input())\n",
    "b = int(input())\n",
    "\n",
    "print('{0} \\n{1} \\n{2}'.format((a + b), (a - b), (a * b)))"
   ]
  }
 ],
 "metadata": {
  "kernelspec": {
   "display_name": "Python 3 (ipykernel)",
   "language": "python",
   "name": "python3"
  },
  "language_info": {
   "codemirror_mode": {
    "name": "ipython",
    "version": 3
   },
   "file_extension": ".py",
   "mimetype": "text/x-python",
   "name": "python",
   "nbconvert_exporter": "python",
   "pygments_lexer": "ipython3",
   "version": "3.9.12"
  }
 },
 "nbformat": 4,
 "nbformat_minor": 5
}
