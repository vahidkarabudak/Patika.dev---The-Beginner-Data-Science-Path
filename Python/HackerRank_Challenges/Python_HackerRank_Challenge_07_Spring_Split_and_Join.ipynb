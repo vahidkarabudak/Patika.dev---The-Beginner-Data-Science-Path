{
 "cells": [
  {
   "cell_type": "markdown",
   "id": "2f95b279",
   "metadata": {},
   "source": [
    "# Python_HackerRank_Challenge_07_Spring_Split_and_Join"
   ]
  },
  {
   "cell_type": "code",
   "execution_count": null,
   "id": "95b7f9c3",
   "metadata": {},
   "outputs": [],
   "source": [
    "def split_and_join(line):\n",
    "    string = '-'.join((line.split()))\n",
    "    return(string)"
   ]
  }
 ],
 "metadata": {
  "kernelspec": {
   "display_name": "Python 3 (ipykernel)",
   "language": "python",
   "name": "python3"
  },
  "language_info": {
   "codemirror_mode": {
    "name": "ipython",
    "version": 3
   },
   "file_extension": ".py",
   "mimetype": "text/x-python",
   "name": "python",
   "nbconvert_exporter": "python",
   "pygments_lexer": "ipython3",
   "version": "3.9.12"
  }
 },
 "nbformat": 4,
 "nbformat_minor": 5
}
