{
 "cells": [
  {
   "attachments": {},
   "cell_type": "markdown",
   "id": "317a1a9f",
   "metadata": {},
   "source": [
    "# Python_HackerRank_Challenge_04_Write_A_Function"
   ]
  },
  {
   "cell_type": "code",
   "execution_count": null,
   "id": "f5b8f7b7",
   "metadata": {},
   "outputs": [],
   "source": [
    "def is_leap(year):\n",
    "\n",
    "    leap = True\n",
    "    notLeap = False\n",
    "    for i in range(0, 100000):\n",
    "        if year % 4 == 0 and year % 400 == 0 and not year % 100 != 0:\n",
    "            return leap\n",
    "        elif year % 100 == 0 and not year % 400 == 0:\n",
    "            return notLeap\n",
    "        elif year % 4 == 0 and not year % 100 == 0:\n",
    "            return leap\n",
    "        elif year % 5 == 0 and not year % 4 == 0:\n",
    "            return notLeap"
   ]
  }
 ],
 "metadata": {
  "kernelspec": {
   "display_name": "Python 3 (ipykernel)",
   "language": "python",
   "name": "python3"
  },
  "language_info": {
   "codemirror_mode": {
    "name": "ipython",
    "version": 3
   },
   "file_extension": ".py",
   "mimetype": "text/x-python",
   "name": "python",
   "nbconvert_exporter": "python",
   "pygments_lexer": "ipython3",
   "version": "3.9.12"
  }
 },
 "nbformat": 4,
 "nbformat_minor": 5
}
