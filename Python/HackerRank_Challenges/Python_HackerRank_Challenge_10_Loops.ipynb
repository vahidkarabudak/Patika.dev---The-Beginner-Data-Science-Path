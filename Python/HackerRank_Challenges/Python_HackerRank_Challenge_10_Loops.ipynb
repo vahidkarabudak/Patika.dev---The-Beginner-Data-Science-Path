{
 "cells": [
  {
   "attachments": {},
   "cell_type": "markdown",
   "id": "7f9b3293",
   "metadata": {},
   "source": [
    "# Python_HackerRank_Challenge__10_Loops"
   ]
  },
  {
   "cell_type": "code",
   "execution_count": null,
   "id": "3587a11a",
   "metadata": {},
   "outputs": [],
   "source": [
    "if __name__ == '__main__':\n",
    "    n = int(input())\n",
    "    print(*[num**2 for num in range(n)], sep='\\n')"
   ]
  }
 ],
 "metadata": {
  "kernelspec": {
   "display_name": "Python 3 (ipykernel)",
   "language": "python",
   "name": "python3"
  },
  "language_info": {
   "codemirror_mode": {
    "name": "ipython",
    "version": 3
   },
   "file_extension": ".py",
   "mimetype": "text/x-python",
   "name": "python",
   "nbconvert_exporter": "python",
   "pygments_lexer": "ipython3",
   "version": "3.9.12"
  }
 },
 "nbformat": 4,
 "nbformat_minor": 5
}
