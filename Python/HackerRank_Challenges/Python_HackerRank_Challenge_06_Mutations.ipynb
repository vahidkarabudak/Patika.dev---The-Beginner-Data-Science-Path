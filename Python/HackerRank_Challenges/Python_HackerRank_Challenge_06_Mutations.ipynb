{
 "cells": [
  {
   "cell_type": "markdown",
   "id": "954682a4",
   "metadata": {},
   "source": [
    "# Python_HackerRank_Challenge_06_Mutations"
   ]
  },
  {
   "cell_type": "code",
   "execution_count": null,
   "id": "1b6a63e9",
   "metadata": {},
   "outputs": [],
   "source": [
    "def mutate_string(string, position, character):\n",
    "    a = list(string)\n",
    "    a[position] = character\n",
    "    return(''.join(a))"
   ]
  }
 ],
 "metadata": {
  "kernelspec": {
   "display_name": "Python 3 (ipykernel)",
   "language": "python",
   "name": "python3"
  },
  "language_info": {
   "codemirror_mode": {
    "name": "ipython",
    "version": 3
   },
   "file_extension": ".py",
   "mimetype": "text/x-python",
   "name": "python",
   "nbconvert_exporter": "python",
   "pygments_lexer": "ipython3",
   "version": "3.9.12"
  }
 },
 "nbformat": 4,
 "nbformat_minor": 5
}
