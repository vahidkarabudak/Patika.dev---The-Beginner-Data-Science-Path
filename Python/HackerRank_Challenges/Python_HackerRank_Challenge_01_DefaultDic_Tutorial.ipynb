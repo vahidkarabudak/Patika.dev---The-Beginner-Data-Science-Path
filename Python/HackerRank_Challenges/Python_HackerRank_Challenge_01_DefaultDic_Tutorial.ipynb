{
 "cells": [
  {
   "cell_type": "markdown",
   "id": "36bf6fe7",
   "metadata": {},
   "source": [
    "# Python_HackerRank_Challenge_01_DefaultDic_Tutorial"
   ]
  },
  {
   "cell_type": "code",
   "execution_count": null,
   "id": "5cf643c4",
   "metadata": {},
   "outputs": [],
   "source": [
    "from collections import defaultdict\n",
    "d = defaultdict(list)\n",
    "list1=[]\n",
    "n, m = map(int,input().split())\n",
    "for i in range(1, n+1):\n",
    "    d[input()].append(str(i))\n",
    "\n",
    "\n",
    "for i in range(m):\n",
    "    b = input()\n",
    "    if b in d: print(' '.join(d[b]))\n",
    "    else: print(-1)"
   ]
  }
 ],
 "metadata": {
  "kernelspec": {
   "display_name": "Python 3 (ipykernel)",
   "language": "python",
   "name": "python3"
  },
  "language_info": {
   "codemirror_mode": {
    "name": "ipython",
    "version": 3
   },
   "file_extension": ".py",
   "mimetype": "text/x-python",
   "name": "python",
   "nbconvert_exporter": "python",
   "pygments_lexer": "ipython3",
   "version": "3.9.12"
  }
 },
 "nbformat": 4,
 "nbformat_minor": 5
}
