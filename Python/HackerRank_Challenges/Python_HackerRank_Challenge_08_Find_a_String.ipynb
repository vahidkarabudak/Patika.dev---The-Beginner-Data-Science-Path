{
 "cells": [
  {
   "cell_type": "markdown",
   "id": "ace56b15",
   "metadata": {},
   "source": [
    "# Python_HackerRank_Challenge_08_Find_a_String"
   ]
  },
  {
   "cell_type": "code",
   "execution_count": null,
   "id": "e031b53f",
   "metadata": {},
   "outputs": [],
   "source": [
    "def count_substring(s, sb):              \n",
    "    return len([i for i in range(len(s)) if s[i:(i+len(sb))] == sb])"
   ]
  }
 ],
 "metadata": {
  "kernelspec": {
   "display_name": "Python 3 (ipykernel)",
   "language": "python",
   "name": "python3"
  },
  "language_info": {
   "codemirror_mode": {
    "name": "ipython",
    "version": 3
   },
   "file_extension": ".py",
   "mimetype": "text/x-python",
   "name": "python",
   "nbconvert_exporter": "python",
   "pygments_lexer": "ipython3",
   "version": "3.9.12"
  }
 },
 "nbformat": 4,
 "nbformat_minor": 5
}
