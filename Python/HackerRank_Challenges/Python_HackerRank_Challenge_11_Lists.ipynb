{
 "cells": [
  {
   "attachments": {},
   "cell_type": "markdown",
   "id": "20f0742f",
   "metadata": {},
   "source": [
    "# Python_HackerRank_Challenge__11_Lists"
   ]
  },
  {
   "cell_type": "code",
   "execution_count": null,
   "id": "1800ed36",
   "metadata": {},
   "outputs": [],
   "source": [
    "if __name__ == '__main__':\n",
    "    nums=[]\n",
    "    N = int(input())\n",
    "    \n",
    "    for _ in range(N):\n",
    "        split_list=input().split()\n",
    "        if split_list[0] == 'print':\n",
    "            print(nums)\n",
    "            \n",
    "        elif split_list[0] in ['sort','pop','reverse']:\n",
    "            eval(f\"nums.{split_list[0]}()\")\n",
    "            \n",
    "        elif split_list[0] == 'insert':\n",
    "            nums.insert(int(split_list[1]),int(split_list[2]))\n",
    "            \n",
    "        elif split_list[0] in ['remove','append']:\n",
    "            eval(f\"nums.{split_list[0]}({split_list[1]})\")"
   ]
  }
 ],
 "metadata": {
  "kernelspec": {
   "display_name": "Python 3 (ipykernel)",
   "language": "python",
   "name": "python3"
  },
  "language_info": {
   "codemirror_mode": {
    "name": "ipython",
    "version": 3
   },
   "file_extension": ".py",
   "mimetype": "text/x-python",
   "name": "python",
   "nbconvert_exporter": "python",
   "pygments_lexer": "ipython3",
   "version": "3.9.12"
  }
 },
 "nbformat": 4,
 "nbformat_minor": 5
}
