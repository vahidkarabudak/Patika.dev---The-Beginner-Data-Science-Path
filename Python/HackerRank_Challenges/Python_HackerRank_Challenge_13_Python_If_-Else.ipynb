{
 "cells": [
  {
   "attachments": {},
   "cell_type": "markdown",
   "id": "833c3e1b",
   "metadata": {},
   "source": [
    "# Python_HackerRank_Challenge__13_Python_If_-Else"
   ]
  },
  {
   "cell_type": "code",
   "execution_count": null,
   "id": "14fe38c8",
   "metadata": {},
   "outputs": [],
   "source": [
    "#!/bin/python3\n",
    "\n",
    "import math\n",
    "import os\n",
    "import random\n",
    "import re\n",
    "import sys\n",
    "  \n",
    "if __name__ == '__main__':\n",
    "    n = int(input().strip())\n",
    "\n",
    "print(\"Weird\" if (n % 2 != 0) or (n in range(6, 21)) else \"Not Weird\")"
   ]
  }
 ],
 "metadata": {
  "kernelspec": {
   "display_name": "Python 3 (ipykernel)",
   "language": "python",
   "name": "python3"
  },
  "language_info": {
   "codemirror_mode": {
    "name": "ipython",
    "version": 3
   },
   "file_extension": ".py",
   "mimetype": "text/x-python",
   "name": "python",
   "nbconvert_exporter": "python",
   "pygments_lexer": "ipython3",
   "version": "3.9.12"
  }
 },
 "nbformat": 4,
 "nbformat_minor": 5
}
