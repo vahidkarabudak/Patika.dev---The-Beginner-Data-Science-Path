{
 "cells": [
  {
   "cell_type": "markdown",
   "id": "62c425d4",
   "metadata": {},
   "source": [
    "# Python_HackerRank_Challenge_03_Print_Function"
   ]
  },
  {
   "cell_type": "code",
   "execution_count": null,
   "id": "2eab6eb4",
   "metadata": {},
   "outputs": [],
   "source": [
    "if __name__ == '__main__':\n",
    "    n = int(input())\n",
    "    for i in range(1, n+1):\n",
    "        print(i, end=\"\")"
   ]
  }
 ],
 "metadata": {
  "kernelspec": {
   "display_name": "Python 3 (ipykernel)",
   "language": "python",
   "name": "python3"
  },
  "language_info": {
   "codemirror_mode": {
    "name": "ipython",
    "version": 3
   },
   "file_extension": ".py",
   "mimetype": "text/x-python",
   "name": "python",
   "nbconvert_exporter": "python",
   "pygments_lexer": "ipython3",
   "version": "3.9.12"
  }
 },
 "nbformat": 4,
 "nbformat_minor": 5
}
