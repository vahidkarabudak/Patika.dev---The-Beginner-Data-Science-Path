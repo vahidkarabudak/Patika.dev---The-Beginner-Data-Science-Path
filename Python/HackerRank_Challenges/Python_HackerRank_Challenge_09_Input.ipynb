{
 "cells": [
  {
   "attachments": {},
   "cell_type": "markdown",
   "id": "afe362a7",
   "metadata": {},
   "source": [
    "# Python_HackerRank_Challenge_09_Input"
   ]
  },
  {
   "cell_type": "code",
   "execution_count": null,
   "id": "62409812",
   "metadata": {},
   "outputs": [],
   "source": [
    "x, k = map(int,input().split())\n",
    "# evaluates the x value within equation.\n",
    "px = eval(input())\n",
    "print(px==k)"
   ]
  }
 ],
 "metadata": {
  "kernelspec": {
   "display_name": "Python 3 (ipykernel)",
   "language": "python",
   "name": "python3"
  },
  "language_info": {
   "codemirror_mode": {
    "name": "ipython",
    "version": 3
   },
   "file_extension": ".py",
   "mimetype": "text/x-python",
   "name": "python",
   "nbconvert_exporter": "python",
   "pygments_lexer": "ipython3",
   "version": "3.9.12"
  }
 },
 "nbformat": 4,
 "nbformat_minor": 5
}
