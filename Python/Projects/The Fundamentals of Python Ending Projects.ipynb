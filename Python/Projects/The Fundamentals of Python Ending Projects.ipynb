{
 "cells": [
  {
   "cell_type": "markdown",
   "id": "619ed913",
   "metadata": {},
   "source": [
    "# Patika.dev - Beginner Data Science Path, The Fundamentals of Python Ending Projects"
   ]
  },
  {
   "cell_type": "markdown",
   "id": "c6ed5df4",
   "metadata": {},
   "source": [
    "* Project_1- Write a function that flattens a list. Its elements can consist of multi-layered lists (such as [[3],2]) or non-scalar data. For example:\n",
    "\n",
    "    input: [[1,'a',['cat'],2],[[[3]],'dog'],4,5]\n",
    "\n",
    "    output:[1,'a','cat',2,3,'dog',4,5]"
   ]
  },
  {
   "cell_type": "code",
   "execution_count": 16,
   "id": "f9e48cd1",
   "metadata": {},
   "outputs": [
    {
     "name": "stdout",
     "output_type": "stream",
     "text": [
      "[1, 'a', 'cat', 2, 3, 'dog', 4, 5]\n"
     ]
    }
   ],
   "source": [
    "def f_flatten(l):\n",
    "    flattened = []\n",
    "    for i in l:\n",
    "        if isinstance(i,list) or isinstance(i, tuple):\n",
    "            flattened.extend(flatten(i))\n",
    "        else:\n",
    "            flattened.append(i)\n",
    "    return flattened\n",
    "inputList = [[1,'a',['cat'],2],[[[3]],'dog'],4,5]\n",
    "outputList = f_flatten(inputList)\n",
    "print(outputList)"
   ]
  },
  {
   "cell_type": "markdown",
   "id": "e44157d3",
   "metadata": {},
   "source": [
    "* Project_2- Write a function that reverses the elements in the given list. If the elements inside the list also contain the list, reverse their elements as well. For example:\n",
    "\n",
    "    input: [[1, 2], [3, 4], [5, 6, 7]]\n",
    "\n",
    "    output: [[[7, 6, 5], [4, 3], [2, 1]]"
   ]
  },
  {
   "cell_type": "code",
   "execution_count": 15,
   "id": "02f7b584",
   "metadata": {},
   "outputs": [
    {
     "name": "stdout",
     "output_type": "stream",
     "text": [
      "[[7, 6, 5], [4, 3], [2, 1]]\n"
     ]
    }
   ],
   "source": [
    "def f_reverse(l):\n",
    "    l.reverse()\n",
    "    for i in l:\n",
    "        if isinstance(i, list) or isinstance(i, tuple):\n",
    "            i.reverse()\n",
    "    return l\n",
    "inputList = [[1, 2], [3, 4], [5, 6, 7]]\n",
    "outputList = f_reverse(inputList)\n",
    "print(outputList)"
   ]
  }
 ],
 "metadata": {
  "kernelspec": {
   "display_name": "Python 3 (ipykernel)",
   "language": "python",
   "name": "python3"
  },
  "language_info": {
   "codemirror_mode": {
    "name": "ipython",
    "version": 3
   },
   "file_extension": ".py",
   "mimetype": "text/x-python",
   "name": "python",
   "nbconvert_exporter": "python",
   "pygments_lexer": "ipython3",
   "version": "3.9.12"
  }
 },
 "nbformat": 4,
 "nbformat_minor": 5
}
